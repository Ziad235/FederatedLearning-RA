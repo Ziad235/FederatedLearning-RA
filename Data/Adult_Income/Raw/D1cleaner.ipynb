{
 "cells": [
  {
   "cell_type": "code",
   "execution_count": 35,
   "metadata": {},
   "outputs": [],
   "source": [
    "import pandas as pd\n",
    "import numpy as np"
   ]
  },
  {
   "cell_type": "code",
   "execution_count": 36,
   "metadata": {},
   "outputs": [],
   "source": [
    "# open adult.data\n",
    "df = pd.read_csv('adult.data', header=None)"
   ]
  },
  {
   "cell_type": "code",
   "execution_count": 37,
   "metadata": {},
   "outputs": [],
   "source": [
    "# save the dataframe as a csv file\n",
    "df.to_csv('adult.csv', index=False)"
   ]
  },
  {
   "cell_type": "code",
   "execution_count": 49,
   "metadata": {},
   "outputs": [
    {
     "name": "stdout",
     "output_type": "stream",
     "text": [
      "The number of males in the dataset is:  0\n"
     ]
    }
   ],
   "source": [
    "# read the new csv file\n",
    "df1 = pd.read_csv('adult.csv')\n",
    "count = (df1.iloc[:, 13] == 40).sum()\n",
    "print('The number of males in the dataset is: ', count)\n",
    "\n",
    "# replace the first 583 rows in column 13 with FAAK\n",
    "df1.iloc[:583, 13] = 'FAAK'\n",
    "\n",
    "# replace FAAK in column 13 randomly each encounter with either South Africa or Mexico or United-States or Canada or England or Germany or Japan or China or India or Cuba or Iran or Philippines or Italy or Poland or Columbia or Cambodia or Thailand or Ecuador or Laos or Taiwan or Haiti or Portugal or Dominican-Republic or El-Salvador or France or Guatemala or Jamaica or Peru or Vietnam or Yugoslavia or Scotland or Hong or Ireland or Hungary or Greece or Trinadad&Tobago or Outlying-US(Guam-USVI-etc) or Honduras or Holand-Netherlands\n",
    "df1.iloc[:583, 13] = np.random.choice(['South Africa', 'Mexico', 'United-States', 'Canada', 'England', 'Germany', 'Japan', 'China', 'India', 'Cuba', 'Iran', 'Philippines', 'Italy', 'Poland', 'Columbia', 'Cambodia', 'Thailand', 'Ecuador', 'Laos', 'Taiwan', 'Haiti', 'Portugal', 'Dominican-Republic', 'El-Salvador', 'France', 'Guatemala', 'Jamaica', 'Peru', 'Vietnam', 'Yugoslavia', 'Scotland', 'Hong', 'Ireland', 'Hungary', 'Greece', 'Trinadad&Tobago', 'Outlying-US(Guam-USVI-etc)', 'Honduras', 'Holand-Netherlands'], size=(583,))\n",
    "# print(df1.iloc[:583, 13])\n",
    "\n",
    "# save the dataframe as a csv file\n",
    "df1.to_csv('adult1.csv', index=False)"
   ]
  },
  {
   "cell_type": "code",
   "execution_count": 50,
   "metadata": {},
   "outputs": [
    {
     "name": "stdout",
     "output_type": "stream",
     "text": [
      "0              Japan\n",
      "1              Japan\n",
      "2            Hungary\n",
      "3           Thailand\n",
      "4              Italy\n",
      "            ...     \n",
      "32556     Yugoslavia\n",
      "32557     Yugoslavia\n",
      "32558     Yugoslavia\n",
      "32559     Yugoslavia\n",
      "32560     Yugoslavia\n",
      "Name: 13, Length: 32561, dtype: object\n",
      "32561\n"
     ]
    }
   ],
   "source": [
    "#show all of column 14\n",
    "print(df1.iloc[:, 13])\n",
    "\n",
    "# give me total number of rows\n",
    "print(df1.shape[0])"
   ]
  },
  {
   "cell_type": "code",
   "execution_count": 51,
   "metadata": {},
   "outputs": [],
   "source": [
    "# save only the 14th column\n",
    "df2 = df1.iloc[:, 13]\n",
    "\n",
    "\n",
    "# save the second column as a csv file and skip the first row\n",
    "df2.to_csv('adult2.csv', index=False, header=False)\n",
    "\n",
    "\n"
   ]
  },
  {
   "cell_type": "code",
   "execution_count": 52,
   "metadata": {},
   "outputs": [],
   "source": [
    "# create a dataframe that contains unique values only from df2\n",
    "df3 = pd.DataFrame(df2.unique())\n",
    "\n",
    "\n",
    "\n",
    "# save the dataframe as a csv file\n",
    "df3.to_csv('adult3.csv', index=False, header=False)"
   ]
  },
  {
   "cell_type": "code",
   "execution_count": 53,
   "metadata": {},
   "outputs": [],
   "source": [
    "# create a dataframe that contains the number of times each unique value appears in df2\n",
    "df4 = pd.DataFrame(df2.value_counts())\n",
    "\n",
    "# save the dataframe as a csv file\n",
    "df4.to_csv('adult4.csv', index=True, header=False)\n",
    "\n",
    "\n"
   ]
  },
  {
   "cell_type": "code",
   "execution_count": 88,
   "metadata": {},
   "outputs": [],
   "source": [
    "# open adult.test\n",
    "dff = pd.read_csv('adult.test', header=None)"
   ]
  },
  {
   "cell_type": "code",
   "execution_count": 90,
   "metadata": {},
   "outputs": [],
   "source": [
    "# save the dataframe as a csv file\n",
    "dff.to_csv('adulttest.csv', index=False)\n",
    "\n",
    "# sort the dataframe by column 13\n",
    "dff1 = dff.sort_values(by=13)\n",
    "\n",
    "# save the dataframe as a csv file\n",
    "dff1.to_csv('adulttest.csv', index=False)"
   ]
  },
  {
   "cell_type": "code",
   "execution_count": 92,
   "metadata": {},
   "outputs": [
    {
     "name": "stdout",
     "output_type": "stream",
     "text": [
      "0                         Germany\n",
      "1                          Canada\n",
      "2              Dominican-Republic\n",
      "3                           Haiti\n",
      "4              Dominican-Republic\n",
      "                  ...            \n",
      "269    Outlying-US(Guam-USVI-etc)\n",
      "270                  South Africa\n",
      "271                          Hong\n",
      "272                      Cambodia\n",
      "273                     Guatemala\n",
      "Name: 13, Length: 274, dtype: object\n"
     ]
    }
   ],
   "source": [
    "# read the new csv file\n",
    "dff1 = pd.read_csv('adulttest.csv')\n",
    "\n",
    "# replace the first 274 rows in column 13 with FAAK\n",
    "dff1.iloc[:274, 13] = 'FAAK'\n",
    "\n",
    "# save the dataframe as a csv file\n",
    "dff1.to_csv('adulttest.csv', index=False)\n",
    "\n",
    "\n",
    "# replace FAAK in column 13 randomly each encounter with either South Africa or Mexico or United-States or Canada or England or Germany or Japan or China or India or Cuba or Iran or Philippines or Italy or Poland or Columbia or Cambodia or Thailand or Ecuador or Laos or Taiwan or Haiti or Portugal or Dominican-Republic or El-Salvador or France or Guatemala or Jamaica or Peru or Vietnam or Yugoslavia or Scotland or Hong or Ireland or Hungary or Greece or Trinadad&Tobago or Outlying-US(Guam-USVI-etc) or Honduras or Holand-Netherlands\n",
    "dff1.iloc[:274, 13] = np.random.choice(['South Africa', 'Mexico', 'United-States', 'Canada', 'England', 'Germany', 'Japan', 'China', 'India', 'Cuba', 'Iran', 'Philippines', 'Italy', 'Poland', 'Columbia', 'Cambodia', 'Thailand', 'Ecuador', 'Laos', 'Taiwan', 'Haiti', 'Portugal', 'Dominican-Republic', 'El-Salvador', 'France', 'Guatemala', 'Jamaica', 'Peru', 'Vietnam', 'Yugoslavia', 'Scotland', 'Hong', 'Ireland', 'Hungary', 'Greece', 'Trinadad&Tobago', 'Outlying-US(Guam-USVI-etc)', 'Honduras', 'Holand-Netherlands'], size=(274,))\n",
    "print(dff1.iloc[:274, 13])\n",
    "\n",
    "# # replace the first row in column 13 with LALA\n",
    "# dff1.iloc[0, 13] = 'FAAK'\n",
    "\n",
    "# save the dataframe as a csv file\n",
    "dff1.to_csv('adulttest.csv', index=False)\n",
    "\n",
    "# # save the dataframe as a csv file\n",
    "# dff1.to_csv('aadult.csv', index=False)"
   ]
  },
  {
   "cell_type": "code",
   "execution_count": 93,
   "metadata": {},
   "outputs": [
    {
     "name": "stdout",
     "output_type": "stream",
     "text": [
      "0                   Germany\n",
      "1                    Canada\n",
      "2        Dominican-Republic\n",
      "3                     Haiti\n",
      "4        Dominican-Republic\n",
      "                ...        \n",
      "16276            Yugoslavia\n",
      "16277            Yugoslavia\n",
      "16278            Yugoslavia\n",
      "16279            Yugoslavia\n",
      "16280            Yugoslavia\n",
      "Name: 13, Length: 16281, dtype: object\n"
     ]
    }
   ],
   "source": [
    "# show all of column 14\n",
    "print(dff1.iloc[:, 13])"
   ]
  },
  {
   "cell_type": "code",
   "execution_count": 95,
   "metadata": {},
   "outputs": [
    {
     "name": "stdout",
     "output_type": "stream",
     "text": [
      "0                   Germany\n",
      "1                    Canada\n",
      "2        Dominican-Republic\n",
      "3                     Haiti\n",
      "4        Dominican-Republic\n",
      "                ...        \n",
      "16276            Yugoslavia\n",
      "16277            Yugoslavia\n",
      "16278            Yugoslavia\n",
      "16279            Yugoslavia\n",
      "16280            Yugoslavia\n",
      "Name: 13, Length: 16281, dtype: object\n"
     ]
    }
   ],
   "source": [
    "# save only the 14th column\n",
    "dff2 = dff1.iloc[:, 13]\n",
    "\n",
    "print(dff2)"
   ]
  },
  {
   "cell_type": "code",
   "execution_count": 96,
   "metadata": {},
   "outputs": [],
   "source": [
    "# save the second column as a csv file and skip the first row\n",
    "dff2.to_csv('adulttest2.csv', index=False, header=False)"
   ]
  },
  {
   "cell_type": "code",
   "execution_count": 97,
   "metadata": {},
   "outputs": [],
   "source": [
    "# create a dataframe that contains unique values only from df2\n",
    "dff3 = pd.DataFrame(dff2.unique())\n",
    "\n",
    "\n",
    "# save the dataframe as a csv file\n",
    "dff3.to_csv('adulttest3.csv', index=False, header=False)"
   ]
  },
  {
   "cell_type": "code",
   "execution_count": 98,
   "metadata": {},
   "outputs": [],
   "source": [
    "# create a dataframe that contains the number of times each unique value appears in df2\n",
    "dff4 = pd.DataFrame(dff2.value_counts())\n",
    "\n",
    "# save the dataframe as a csv file\n",
    "dff4.to_csv('adulttest4.csv', index=True, header=False)"
   ]
  },
  {
   "cell_type": "code",
   "execution_count": 99,
   "metadata": {},
   "outputs": [],
   "source": [
    "# add df4 and dff4\n",
    "df5 = df4 + dff4\n",
    "\n",
    "# save the dataframe as a csv file\n",
    "df5.to_csv('adult_client.csv', index=True, header=False)"
   ]
  },
  {
   "cell_type": "code",
   "execution_count": 25,
   "metadata": {},
   "outputs": [
    {
     "name": "stderr",
     "output_type": "stream",
     "text": [
      "/var/folders/22/nrb4t9gx0n9bfqq_y59_73p80000gn/T/ipykernel_22403/3459541716.py:2: FutureWarning: The series.append method is deprecated and will be removed from pandas in a future version. Use pandas.concat instead.\n",
      "  df6 = df2.append(dff2)\n"
     ]
    }
   ],
   "source": [
    "# add df2 and dff2\n",
    "df6 = df2.append(dff2)\n",
    "\n",
    "# save the dataframe as a csv file\n",
    "df6.to_csv('adult6.csv', index=False, header=False)"
   ]
  },
  {
   "cell_type": "code",
   "execution_count": 24,
   "metadata": {},
   "outputs": [
    {
     "name": "stderr",
     "output_type": "stream",
     "text": [
      "/var/folders/22/nrb4t9gx0n9bfqq_y59_73p80000gn/T/ipykernel_22403/1516842940.py:2: FutureWarning: The frame.append method is deprecated and will be removed from pandas in a future version. Use pandas.concat instead.\n",
      "  df7 = df1.append(dff1)\n"
     ]
    }
   ],
   "source": [
    "# add df1 and dff1\n",
    "df7 = df1.append(dff1)\n",
    "\n",
    "# save the dataframe as a csv file\n",
    "df7.to_csv('adult7.csv', index=False, header=False)"
   ]
  }
 ],
 "metadata": {
  "kernelspec": {
   "display_name": "Python 3",
   "language": "python",
   "name": "python3"
  },
  "language_info": {
   "codemirror_mode": {
    "name": "ipython",
    "version": 3
   },
   "file_extension": ".py",
   "mimetype": "text/x-python",
   "name": "python",
   "nbconvert_exporter": "python",
   "pygments_lexer": "ipython3",
   "version": "3.10.8"
  },
  "orig_nbformat": 4
 },
 "nbformat": 4,
 "nbformat_minor": 2
}
