{
 "cells": [
  {
   "cell_type": "code",
   "execution_count": 1,
   "metadata": {},
   "outputs": [],
   "source": [
    "import pandas as pd\n",
    "import numpy as np"
   ]
  },
  {
   "cell_type": "code",
   "execution_count": 3,
   "metadata": {},
   "outputs": [],
   "source": [
    "# open all the data diles in folder\n",
    "\n",
    "df1 = pd.read_csv('Cleveland.data', header=None)\n",
    "df2 = pd.read_csv('Hung.data', header=None)\n",
    "df3 = pd.read_csv('Switz.data', header=None)\n",
    "df4 = pd.read_csv('VA.data', header=None)"
   ]
  },
  {
   "cell_type": "code",
   "execution_count": 4,
   "metadata": {},
   "outputs": [],
   "source": [
    "# save the dataframes as a csv file\n",
    "df1.to_csv('Cleveland.csv', index=False)\n",
    "df2.to_csv('Hung.csv', index=False)\n",
    "df3.to_csv('Switz.csv', index=False)\n",
    "df4.to_csv('VA.csv', index=False)"
   ]
  },
  {
   "cell_type": "code",
   "execution_count": 6,
   "metadata": {},
   "outputs": [
    {
     "name": "stdout",
     "output_type": "stream",
     "text": [
      "The number of bmw in the dataset is:  8\n"
     ]
    }
   ],
   "source": [
    "# read the new csv file\n",
    "df1 = pd.read_csv('automobile.csv')\n",
    "count = (df1.iloc[:, 2] == 'bmw').sum()\n",
    "print('The number of bmw in the dataset is: ', count)"
   ]
  },
  {
   "cell_type": "code",
   "execution_count": 7,
   "metadata": {},
   "outputs": [
    {
     "name": "stdout",
     "output_type": "stream",
     "text": [
      "0      alfa-romero\n",
      "1      alfa-romero\n",
      "2      alfa-romero\n",
      "3             audi\n",
      "4             audi\n",
      "          ...     \n",
      "200          volvo\n",
      "201          volvo\n",
      "202          volvo\n",
      "203          volvo\n",
      "204          volvo\n",
      "Name: 2, Length: 205, dtype: object\n",
      "205\n"
     ]
    }
   ],
   "source": [
    "#show all of column 3\n",
    "print(df1.iloc[:, 2])\n",
    "\n",
    "# give me total number of rows\n",
    "print(df1.shape[0])"
   ]
  },
  {
   "cell_type": "code",
   "execution_count": 10,
   "metadata": {},
   "outputs": [],
   "source": [
    "# save only the second column\n",
    "df2 = df1.iloc[:, 2]\n",
    "\n",
    "# save the second column as a csv file and skip the first row\n",
    "df2.to_csv('automobile2.csv', index=False, header=False)"
   ]
  },
  {
   "cell_type": "code",
   "execution_count": 11,
   "metadata": {},
   "outputs": [],
   "source": [
    "# create a dataframe that contains unique values only from df2\n",
    "df3 = pd.DataFrame(df2.unique())\n",
    "\n",
    "# save the dataframe as a csv file\n",
    "df3.to_csv('automobile3.csv', index=False, header=False)"
   ]
  },
  {
   "cell_type": "code",
   "execution_count": 13,
   "metadata": {},
   "outputs": [],
   "source": [
    "# create a dataframe that contains the number of times each unique value appears in df2\n",
    "df4 = pd.DataFrame(df2.value_counts())\n",
    "\n",
    "# arrange the values as they appear in df2\n",
    "df4.sort_index(inplace=True)\n",
    "\n",
    "# save the dataframe as a csv file\n",
    "df4.to_csv('automobile4.csv', index=True, header=False)"
   ]
  }
 ],
 "metadata": {
  "kernelspec": {
   "display_name": "Python 3",
   "language": "python",
   "name": "python3"
  },
  "language_info": {
   "codemirror_mode": {
    "name": "ipython",
    "version": 3
   },
   "file_extension": ".py",
   "mimetype": "text/x-python",
   "name": "python",
   "nbconvert_exporter": "python",
   "pygments_lexer": "ipython3",
   "version": "3.10.8"
  },
  "orig_nbformat": 4
 },
 "nbformat": 4,
 "nbformat_minor": 2
}
