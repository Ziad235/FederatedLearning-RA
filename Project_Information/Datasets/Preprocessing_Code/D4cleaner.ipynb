{
 "cells": [
  {
   "cell_type": "code",
   "execution_count": 1,
   "metadata": {},
   "outputs": [],
   "source": [
    "import pandas as pd\n",
    "import numpy as np"
   ]
  },
  {
   "cell_type": "code",
   "execution_count": 3,
   "metadata": {},
   "outputs": [],
   "source": [
    "# open all the data diles in folder\n",
    "\n",
    "df1 = pd.read_csv('Cleveland.data', header=None)\n",
    "df2 = pd.read_csv('Hung.data', header=None)\n",
    "df3 = pd.read_csv('Switz.data', header=None)\n",
    "df4 = pd.read_csv('VA.data', header=None)"
   ]
  },
  {
   "cell_type": "code",
   "execution_count": 4,
   "metadata": {},
   "outputs": [],
   "source": [
    "# save the dataframes as a csv file\n",
    "df1.to_csv('Cleveland.csv', index=False)\n",
    "df2.to_csv('Hung.csv', index=False)\n",
    "df3.to_csv('Switz.csv', index=False)\n",
    "df4.to_csv('VA.csv', index=False)"
   ]
  }
 ],
 "metadata": {
  "kernelspec": {
   "display_name": "Python 3",
   "language": "python",
   "name": "python3"
  },
  "language_info": {
   "codemirror_mode": {
    "name": "ipython",
    "version": 3
   },
   "file_extension": ".py",
   "mimetype": "text/x-python",
   "name": "python",
   "nbconvert_exporter": "python",
   "pygments_lexer": "ipython3",
   "version": "3.10.8"
  },
  "orig_nbformat": 4
 },
 "nbformat": 4,
 "nbformat_minor": 2
}
