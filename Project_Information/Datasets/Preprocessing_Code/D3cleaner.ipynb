{
 "cells": [
  {
   "cell_type": "code",
   "execution_count": 2,
   "metadata": {},
   "outputs": [],
   "source": [
    "import pandas as pd\n",
    "import numpy as np"
   ]
  },
  {
   "cell_type": "code",
   "execution_count": 3,
   "metadata": {},
   "outputs": [],
   "source": [
    "# open automobile dataset\n",
    "df = pd.read_csv('automobile.data', header=None)"
   ]
  },
  {
   "cell_type": "code",
   "execution_count": 4,
   "metadata": {},
   "outputs": [],
   "source": [
    "# save the dataframe as a csv file\n",
    "df.to_csv('automobile.csv', index=False)"
   ]
  },
  {
   "cell_type": "code",
   "execution_count": 3,
   "metadata": {},
   "outputs": [],
   "source": [
    "# read the new csv file\n",
    "df1 = pd.read_csv('diabetes.csv')\n",
    "# count = (df1.iloc[:, 2] == 'bmw').sum()\n",
    "# print('The number of bmw in the dataset is: ', count)"
   ]
  },
  {
   "cell_type": "code",
   "execution_count": 6,
   "metadata": {},
   "outputs": [
    {
     "name": "stdout",
     "output_type": "stream",
     "text": [
      "0           2.0\n",
      "1         166.0\n",
      "2         166.0\n",
      "3          34.0\n",
      "4         166.0\n",
      "          ...  \n",
      "101761      NaN\n",
      "101762      NaN\n",
      "101763      NaN\n",
      "101764      NaN\n",
      "101765      NaN\n",
      "Name: hospital_id, Length: 101766, dtype: float64\n",
      "101766\n"
     ]
    }
   ],
   "source": [
    "#show all of column 1\n",
    "print(df1.iloc[:, 0])\n",
    "\n",
    "# give me total number of rows\n",
    "print(df1.shape[0])"
   ]
  },
  {
   "cell_type": "code",
   "execution_count": 12,
   "metadata": {},
   "outputs": [],
   "source": [
    "# save only the first column\n",
    "df2 = df1.iloc[:, 0]\n",
    "\n",
    "# fill empty cells with a randon number between 1 and 439\n",
    "df2 = df2.fillna(np.random.randint(1, 439))\n",
    "\n",
    "# save the second column as a csv file and skip the first row\n",
    "df2.to_csv('diabetes2.csv', index=False, header=False)"
   ]
  },
  {
   "cell_type": "code",
   "execution_count": 13,
   "metadata": {},
   "outputs": [],
   "source": [
    "# create a dataframe that contains unique values only from df2\n",
    "df3 = pd.DataFrame(df2.unique())\n",
    "\n",
    "# save the dataframe as a csv file\n",
    "df3.to_csv('diabetes3.csv', index=False, header=False)"
   ]
  },
  {
   "cell_type": "code",
   "execution_count": 14,
   "metadata": {},
   "outputs": [],
   "source": [
    "# create a dataframe that contains the number of times each unique value appears in df2\n",
    "df4 = pd.DataFrame(df2.value_counts())\n",
    "\n",
    "# arrange the values as they appear in df2\n",
    "df4.sort_index(inplace=True)\n",
    "\n",
    "# save the dataframe as a csv file\n",
    "df4.to_csv('diabetes4.csv', index=True, header=False)"
   ]
  }
 ],
 "metadata": {
  "kernelspec": {
   "display_name": "Python 3",
   "language": "python",
   "name": "python3"
  },
  "language_info": {
   "codemirror_mode": {
    "name": "ipython",
    "version": 3
   },
   "file_extension": ".py",
   "mimetype": "text/x-python",
   "name": "python",
   "nbconvert_exporter": "python",
   "pygments_lexer": "ipython3",
   "version": "3.10.8"
  },
  "orig_nbformat": 4
 },
 "nbformat": 4,
 "nbformat_minor": 2
}
