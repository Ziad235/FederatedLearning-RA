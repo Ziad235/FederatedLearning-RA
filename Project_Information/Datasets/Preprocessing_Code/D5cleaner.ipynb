{
 "cells": [
  {
   "cell_type": "code",
   "execution_count": 2,
   "metadata": {},
   "outputs": [],
   "source": [
    "import pandas as pd\n",
    "import numpy as np"
   ]
  },
  {
   "cell_type": "code",
   "execution_count": 3,
   "metadata": {},
   "outputs": [],
   "source": [
    "# open student data\n",
    "df = pd.read_csv('student.csv', sep=';')"
   ]
  },
  {
   "cell_type": "code",
   "execution_count": 7,
   "metadata": {},
   "outputs": [
    {
     "name": "stdout",
     "output_type": "stream",
     "text": [
      "{'GP': 772, 'MS': 272}\n"
     ]
    }
   ],
   "source": [
    "# list of schools\n",
    "school_dict = {'GP': 0, 'MS': 0}\n",
    "\n",
    "# iterate through the rows\n",
    "# if rows starts with GP, add 1 to GP\n",
    "# if school starts with MS, add 1 to MS\n",
    "for index, row in df.iterrows():\n",
    "    if row[0].startswith('GP'):\n",
    "        school_dict['GP'] += 1\n",
    "    elif row[0].startswith('MS'):\n",
    "        school_dict['MS'] += 1\n",
    "\n",
    "# print the dictionary\n",
    "print(school_dict)\n",
    "\n"
   ]
  }
 ],
 "metadata": {
  "kernelspec": {
   "display_name": "Python 3",
   "language": "python",
   "name": "python3"
  },
  "language_info": {
   "codemirror_mode": {
    "name": "ipython",
    "version": 3
   },
   "file_extension": ".py",
   "mimetype": "text/x-python",
   "name": "python",
   "nbconvert_exporter": "python",
   "pygments_lexer": "ipython3",
   "version": "3.10.8"
  },
  "orig_nbformat": 4
 },
 "nbformat": 4,
 "nbformat_minor": 2
}
