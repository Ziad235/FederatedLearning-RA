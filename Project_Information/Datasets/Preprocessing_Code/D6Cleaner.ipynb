{
 "cells": [
  {
   "cell_type": "code",
   "execution_count": 2,
   "metadata": {},
   "outputs": [],
   "source": [
    "import pandas as pd\n",
    "import numpy as np"
   ]
  },
  {
   "cell_type": "code",
   "execution_count": 5,
   "metadata": {},
   "outputs": [],
   "source": [
    "# open university data\n",
    "df = pd.read_csv('university.txt', sep='\\t', header=None)\n",
    "\n",
    "# save as csv\n",
    "df.to_csv('university.csv', index=False)"
   ]
  },
  {
   "cell_type": "code",
   "execution_count": 12,
   "metadata": {},
   "outputs": [],
   "source": [
    "# remove all parentheses\n",
    "df = df.replace(to_replace='\\(', value='', regex=True)\n",
    "\n",
    "\n",
    "df = df.replace(to_replace='\\)', value='', regex=True)\n",
    "\n",
    "# save as csv and remove header\n",
    "df.to_csv('university.csv', index=False, header=False)\n"
   ]
  },
  {
   "cell_type": "code",
   "execution_count": 19,
   "metadata": {},
   "outputs": [],
   "source": [
    "# make everything lowercase\n",
    "df = df.apply(lambda x: x.astype(str).str.lower())\n",
    "\n",
    "# save as csv\n",
    "df.to_csv('university.csv', index=False, header=False)"
   ]
  },
  {
   "cell_type": "code",
   "execution_count": 41,
   "metadata": {},
   "outputs": [
    {
     "name": "stdout",
     "output_type": "stream",
     "text": [
      "{'state newyork': 63, 'state arizona': 2, 'state massachusetts': 31, 'state rhodeisland': 2, 'state california': 21, 'state pennsylvania': 21, 'state ohio': 5, 'state newhampshire': 3, 'state florida': 5, 'state georgia': 6, 'state illinois': 7, 'state maryland': 6, 'state montana': 2, 'state newjersey': 17, 'state texas': 13, 'state maine': 2, 'state oklahoma': 6, 'state connecticut': 8, 'state district-of-columbia': 5, 'state washington': 5, 'state indiana': 7, 'state oregon': 8, 'state vermont': 2, 'state colorado': 5, 'state minnesota': 2, 'state tennessee': 3, 'state alabama': 2, 'state virginia': 4, 'state louisiana': 2, 'state michigan': 5, 'state missouri': 1, 'state kansas': 1, 'state nebraska': 1, 'state mississippi': 1, 'state foreign': 6, 'state southdakota': 2, 'state northcarolina': 2, 'state westvirginia': 1}\n"
     ]
    }
   ],
   "source": [
    "# read csv\n",
    "df = pd.read_csv('university.csv', header=None)\n",
    "\n",
    "# list to contain states\n",
    "states_list = []\n",
    "\n",
    "# dictionary to contain states and their counts\n",
    "states_dict = {}\n",
    "\n",
    "# this piece of code is to get the states and their counts by taking advatage of the format of the data\n",
    "# if a row starts with BREAK, add the row right below it to the list\n",
    "for index, row in df.iterrows():\n",
    "    if row[0].startswith('BREAK'):\n",
    "        states_list.append(df.iloc[index+1][0])\n",
    "\n",
    "# remove all white spaces in the list\n",
    "states_list = [x.strip(' ') for x in states_list]\n",
    "\n",
    "# add states to dictionary if it does not exist, otherwise increment count\n",
    "for state in states_list:\n",
    "    if state not in states_dict:\n",
    "        states_dict[state] = 1\n",
    "    else:\n",
    "        states_dict[state] += 1\n",
    "\n",
    "print(states_dict)"
   ]
  },
  {
   "cell_type": "code",
   "execution_count": 43,
   "metadata": {},
   "outputs": [],
   "source": [
    "# save states and counts to a new dataframe\n",
    "df = pd.DataFrame(list(states_dict.items()), columns=['State', 'Count'])\n",
    "\n",
    "# sort dataframe by count\n",
    "df = df.sort_values(by=['Count'], ascending=False)\n",
    "\n",
    "# save as csv\n",
    "df.to_csv('client_info.csv', index=False, header=False)\n",
    "\n"
   ]
  }
 ],
 "metadata": {
  "kernelspec": {
   "display_name": "Python 3",
   "language": "python",
   "name": "python3"
  },
  "language_info": {
   "codemirror_mode": {
    "name": "ipython",
    "version": 3
   },
   "file_extension": ".py",
   "mimetype": "text/x-python",
   "name": "python",
   "nbconvert_exporter": "python",
   "pygments_lexer": "ipython3",
   "version": "3.10.8"
  },
  "orig_nbformat": 4
 },
 "nbformat": 4,
 "nbformat_minor": 2
}
